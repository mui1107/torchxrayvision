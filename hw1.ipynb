{
  "nbformat": 4,
  "nbformat_minor": 0,
  "metadata": {
    "anaconda-cloud": {},
    "colab": {
      "provenance": [],
      "include_colab_link": true
    },
    "kernelspec": {
      "display_name": "Python 3",
      "language": "python",
      "name": "python3"
    },
    "language_info": {
      "codemirror_mode": {
        "name": "ipython",
        "version": 3
      },
      "file_extension": ".py",
      "mimetype": "text/x-python",
      "name": "python",
      "nbconvert_exporter": "python",
      "pygments_lexer": "ipython3",
      "version": "3.8.2"
    },
    "name": "_merged"
  },
  "cells": [
    {
      "cell_type": "markdown",
      "metadata": {
        "id": "view-in-github",
        "colab_type": "text"
      },
      "source": [
        "<a href=\"https://colab.research.google.com/github/mui1107/torchxrayvision/blob/master/hw1.ipynb\" target=\"_parent\"><img src=\"https://colab.research.google.com/assets/colab-badge.svg\" alt=\"Open In Colab\"/></a>"
      ]
    },
    {
      "cell_type": "markdown",
      "metadata": {
        "id": "5q8W8z5tumHy"
      },
      "source": [
        "# Python 與 Jupyter Notebook 操作練習 — 作業交卷說明\n",
        "- 學生名字: 林耀鈴 學號: s01234567 班級: 資工3C\n",
        "- 交卷日期: 2024/10/00\n",
        "- 連結: https://t.ly/Gujkp (re: [short url](https://chrome.google.com/webstore/detail/url-shortener/oodfdmglhbbkkcngodjjagblikmoegpa)) ![](https://api.qrserver.com/v1/create-qr-code/?size=60x60&data=https://t.ly/Gujkp)"
      ]
    },
    {
      "cell_type": "markdown",
      "metadata": {
        "id": "lqmrAo3fgosO"
      },
      "source": [
        "## 簡介:\n",
        "- 這個習題是為了讓你練習 Python, Jupyter Notebook  與 Google Colab 使用方法。\n",
        "- Jupyter Notebook: https://jupyter.org/.\n",
        "- Google Colab: https://colab.research.google.com/notebooks/welcome.ipynb to learn some Colab usage.\n",
        "- This is a Jupyiter notebook presentation. Jupyiter notebook是用來編寫python程式碼的*（但現在已經支持其他語言）。 Jupyiter有很多項優點，其中一項就是可以在內部寫Markdown 語法，不需要在另外用一份文檔說明程式碼或是寫很多的註解來說明程式碼。"
      ]
    },
    {
      "cell_type": "markdown",
      "metadata": {
        "id": "n6dWZj5-jWl_"
      },
      "source": [
        "## **習題說明:**\n",
        "1. 將本習題範本 copy 到您自己的 google drive 雲端硬碟，建議檔名為： [your-std-id].ipynb\n",
        "1. 請更改第一個 cell 內容中的日期資料，並將學生名字設為你的名字。\n",
        "1. 首先**執行**下面這行程式，請輸入 **std_id = 你的學號末5碼**。\n",
        "1. 請保留前面內容順訊，但請根據輸出的隨機順序, **調換更動本ipynb檔案的內容順序。**\n",
        "1. !!! 記得將您的 ipynb 檔案按滑鼠右鍵，點選「共用」，權限改成:**「分享給知道連結的人」**,老師才能測試您的作業。 !!!\n",
        "1. 利用 Runtime -> Run all (ctl-F9)，一次執行完畢後利用 File -> Print(ctl-P)產生 PDF檔後更名為 [your-id].PDF (e.g. s01234567.pdf)\n",
        "1. !!! **交作業時請繳交PDF檔**. !!!\n"
      ]
    },
    {
      "cell_type": "code",
      "metadata": {
        "id": "UsbMK_Zy6xlP",
        "colab": {
          "base_uri": "https://localhost:8080/"
        },
        "outputId": "f3311520-1b72-4f59-e36b-ecd76f49062f"
      },
      "source": [
        "# Set random seed to decide your output orderings\n",
        "import numpy as np\n",
        "import random\n",
        "std_id = 75413\n",
        "np.random.seed(std_id)\n",
        "print ( np.random.permutation(list('ABCDE')) )"
      ],
      "execution_count": null,
      "outputs": [
        {
          "output_type": "stream",
          "name": "stdout",
          "text": [
            "['C' 'A' 'D' 'B' 'E']\n"
          ]
        }
      ]
    },
    {
      "cell_type": "code",
      "metadata": {
        "id": "d3g63IH4FRdH",
        "colab": {
          "base_uri": "https://localhost:8080/"
        },
        "outputId": "2c5af69d-b236-42c6-fd92-16cd6062c383"
      },
      "source": [
        "# Sect C -- 資料型態\n",
        "\n",
        "x = 10\n",
        "print(x)\n",
        "print(type(x))      # 加法前列出x資料型態\n",
        "x = x + 5.5\n",
        "print(x)\n",
        "print(type(x))      # 加法後列出x資料型態"
      ],
      "execution_count": null,
      "outputs": [
        {
          "output_type": "stream",
          "name": "stdout",
          "text": [
            "10\n",
            "<class 'int'>\n",
            "15.5\n",
            "<class 'float'>\n"
          ]
        }
      ]
    },
    {
      "cell_type": "code",
      "metadata": {
        "id": "dN4H0NAZ-4Qy",
        "colab": {
          "base_uri": "https://localhost:8080/"
        },
        "outputId": "9ed7630b-c09c-44ee-a998-e190c861b532"
      },
      "source": [
        "# Sect A -- Python Basics\n",
        "\n",
        "print(\"Hello! Python\")   # 列印字串"
      ],
      "execution_count": null,
      "outputs": [
        {
          "output_type": "stream",
          "name": "stdout",
          "text": [
            "Hello! Python\n"
          ]
        }
      ]
    },
    {
      "cell_type": "code",
      "metadata": {
        "id": "mbK9qzy5FZ6T",
        "colab": {
          "base_uri": "https://localhost:8080/"
        },
        "outputId": "1163f33d-6947-407e-9bbf-aeca8591bcee"
      },
      "source": [
        "# Sect D -- formatted print\n",
        "\n",
        "r = 5\n",
        "PI = 3.14159\n",
        "area = PI * r ** 2\n",
        "print(\"/半徑{0:3d}圓面積是{1:10.2f}/\".format(r,area))\n",
        "print(\"/半徑{0:>3d}圓面積是{1:>10.2f}/\".format(r,area))\n",
        "print(\"/半徑{0:<3d}圓面積是{1:<10.2f}/\".format(r,area))\n",
        "print(\"/半徑{0:^3d}圓面積是{1:^10.2f}/\".format(r,area))"
      ],
      "execution_count": null,
      "outputs": [
        {
          "output_type": "stream",
          "name": "stdout",
          "text": [
            "/半徑  5圓面積是     78.54/\n",
            "/半徑  5圓面積是     78.54/\n",
            "/半徑5  圓面積是78.54     /\n",
            "/半徑 5 圓面積是  78.54   /\n"
          ]
        }
      ]
    },
    {
      "cell_type": "code",
      "metadata": {
        "id": "PtxnEzMLFZvF",
        "colab": {
          "base_uri": "https://localhost:8080/"
        },
        "outputId": "96fa9a0e-2950-4335-861d-6c8e631da805"
      },
      "source": [
        "# Sect B -- Expressions\n",
        "\n",
        "hourly_salary = 125                  # 設定時薪\n",
        "annual_salary = hourly_salary * 8 * 300      # 計算年薪\n",
        "monthly_fee = 9000                   # 設定每月花費\n",
        "annual_fee = monthly_fee * 12            # 計算每年花費\n",
        "annual_savings = annual_salary - annual_fee     # 計算每年儲存金額\n",
        "print(annual_savings)                  # 列出每年儲存金額"
      ],
      "execution_count": null,
      "outputs": [
        {
          "output_type": "stream",
          "name": "stdout",
          "text": [
            "192000\n"
          ]
        }
      ]
    },
    {
      "cell_type": "code",
      "metadata": {
        "id": "g_j8oRJaFRnF",
        "colab": {
          "base_uri": "https://localhost:8080/"
        },
        "outputId": "d12feca3-5da1-4c81-fa68-3e85886c10f6"
      },
      "source": [
        "# Sect E -- List\n",
        "\n",
        "james = [23, 19, 22, 31, 18]        # 定義james的5場比賽得分\n",
        "games = len(james)                  # 獲得場次數據\n",
        "print(\"經過 %d 比賽最高得分 = \" % games, max(james))\n",
        "print(\"經過 %d 比賽最低得分 = \" % games, min(james))\n",
        "print(\"經過 %d 比賽得分總計 = \" % games, sum(james))"
      ],
      "execution_count": null,
      "outputs": [
        {
          "output_type": "stream",
          "name": "stdout",
          "text": [
            "經過 5 比賽最高得分 =  31\n",
            "經過 5 比賽最低得分 =  18\n",
            "經過 5 比賽得分總計 =  113\n"
          ]
        }
      ]
    },
    {
      "cell_type": "markdown",
      "metadata": {
        "id": "-xUMZ6ijv0pH"
      },
      "source": [
        "## Python Codes for Deep Neural Network (DNN)"
      ]
    },
    {
      "cell_type": "markdown",
      "metadata": {
        "id": "iBAextbLwKes"
      },
      "source": [
        "# Example: construction of 8-4-6-1 model"
      ]
    },
    {
      "cell_type": "code",
      "source": [
        "## Keras codes for Keras ANN model\n",
        "# Example: construction of 8-4-6-1 model\n",
        "from keras.models import Sequential\n",
        "from keras.layers import Dense\n",
        "\n",
        "model = Sequential()\n",
        "model.add(Dense(units = 4, input_dim = 8))\n",
        "model.add(Dense(units = 6))\n",
        "model.add(Dense(units = 1))\n",
        "\n",
        "model.summary()\n",
        "\n",
        "###################\n",
        "\n",
        "# Example 2: finer construction of 8-4-6-1 model\n",
        "\n",
        "from keras.models import Sequential\n",
        "from keras.layers import Dense\n",
        "from keras import regularizers\n",
        "from keras.constraints import maxnorm\n",
        "\n",
        "model = Sequential()\n",
        "model.add(Dense(units = 4, input_dim = 8,\n",
        "\tkernel_initializer = 'normal', activation = 'tanh'))\n",
        "model.add(Dense(units = 6,\n",
        "\tkernel_initializer = 'uniform', activation = 'relu',\n",
        "\tkernel_constraint = maxnorm(3)))\n",
        "model.add(Dense(units = 1,\n",
        "\tkernel_initializer = 'uniform', activation = 'sigmoid',\n",
        "\tkernel_regularizer = regularizers.l2(l = 0.01)))\n",
        "\n",
        "model.summary()"
      ],
      "metadata": {
        "colab": {
          "base_uri": "https://localhost:8080/",
          "height": 647
        },
        "id": "yjjrFsgYuBJ-",
        "outputId": "13aae9a0-757f-477e-e694-bd4a7d8c4fa2"
      },
      "execution_count": null,
      "outputs": [
        {
          "output_type": "stream",
          "name": "stderr",
          "text": [
            "/usr/local/lib/python3.10/dist-packages/keras/src/layers/core/dense.py:87: UserWarning: Do not pass an `input_shape`/`input_dim` argument to a layer. When using Sequential models, prefer using an `Input(shape)` object as the first layer in the model instead.\n",
            "  super().__init__(activity_regularizer=activity_regularizer, **kwargs)\n"
          ]
        },
        {
          "output_type": "display_data",
          "data": {
            "text/plain": [
              "\u001b[1mModel: \"sequential\"\u001b[0m\n"
            ],
            "text/html": [
              "<pre style=\"white-space:pre;overflow-x:auto;line-height:normal;font-family:Menlo,'DejaVu Sans Mono',consolas,'Courier New',monospace\"><span style=\"font-weight: bold\">Model: \"sequential\"</span>\n",
              "</pre>\n"
            ]
          },
          "metadata": {}
        },
        {
          "output_type": "display_data",
          "data": {
            "text/plain": [
              "┏━━━━━━━━━━━━━━━━━━━━━━━━━━━━━━━━━━━━━━┳━━━━━━━━━━━━━━━━━━━━━━━━━━━━━┳━━━━━━━━━━━━━━━━━┓\n",
              "┃\u001b[1m \u001b[0m\u001b[1mLayer (type)                        \u001b[0m\u001b[1m \u001b[0m┃\u001b[1m \u001b[0m\u001b[1mOutput Shape               \u001b[0m\u001b[1m \u001b[0m┃\u001b[1m \u001b[0m\u001b[1m        Param #\u001b[0m\u001b[1m \u001b[0m┃\n",
              "┡━━━━━━━━━━━━━━━━━━━━━━━━━━━━━━━━━━━━━━╇━━━━━━━━━━━━━━━━━━━━━━━━━━━━━╇━━━━━━━━━━━━━━━━━┩\n",
              "│ dense (\u001b[38;5;33mDense\u001b[0m)                        │ (\u001b[38;5;45mNone\u001b[0m, \u001b[38;5;34m4\u001b[0m)                   │              \u001b[38;5;34m36\u001b[0m │\n",
              "├──────────────────────────────────────┼─────────────────────────────┼─────────────────┤\n",
              "│ dense_1 (\u001b[38;5;33mDense\u001b[0m)                      │ (\u001b[38;5;45mNone\u001b[0m, \u001b[38;5;34m6\u001b[0m)                   │              \u001b[38;5;34m30\u001b[0m │\n",
              "├──────────────────────────────────────┼─────────────────────────────┼─────────────────┤\n",
              "│ dense_2 (\u001b[38;5;33mDense\u001b[0m)                      │ (\u001b[38;5;45mNone\u001b[0m, \u001b[38;5;34m1\u001b[0m)                   │               \u001b[38;5;34m7\u001b[0m │\n",
              "└──────────────────────────────────────┴─────────────────────────────┴─────────────────┘\n"
            ],
            "text/html": [
              "<pre style=\"white-space:pre;overflow-x:auto;line-height:normal;font-family:Menlo,'DejaVu Sans Mono',consolas,'Courier New',monospace\">┏━━━━━━━━━━━━━━━━━━━━━━━━━━━━━━━━━━━━━━┳━━━━━━━━━━━━━━━━━━━━━━━━━━━━━┳━━━━━━━━━━━━━━━━━┓\n",
              "┃<span style=\"font-weight: bold\"> Layer (type)                         </span>┃<span style=\"font-weight: bold\"> Output Shape                </span>┃<span style=\"font-weight: bold\">         Param # </span>┃\n",
              "┡━━━━━━━━━━━━━━━━━━━━━━━━━━━━━━━━━━━━━━╇━━━━━━━━━━━━━━━━━━━━━━━━━━━━━╇━━━━━━━━━━━━━━━━━┩\n",
              "│ dense (<span style=\"color: #0087ff; text-decoration-color: #0087ff\">Dense</span>)                        │ (<span style=\"color: #00d7ff; text-decoration-color: #00d7ff\">None</span>, <span style=\"color: #00af00; text-decoration-color: #00af00\">4</span>)                   │              <span style=\"color: #00af00; text-decoration-color: #00af00\">36</span> │\n",
              "├──────────────────────────────────────┼─────────────────────────────┼─────────────────┤\n",
              "│ dense_1 (<span style=\"color: #0087ff; text-decoration-color: #0087ff\">Dense</span>)                      │ (<span style=\"color: #00d7ff; text-decoration-color: #00d7ff\">None</span>, <span style=\"color: #00af00; text-decoration-color: #00af00\">6</span>)                   │              <span style=\"color: #00af00; text-decoration-color: #00af00\">30</span> │\n",
              "├──────────────────────────────────────┼─────────────────────────────┼─────────────────┤\n",
              "│ dense_2 (<span style=\"color: #0087ff; text-decoration-color: #0087ff\">Dense</span>)                      │ (<span style=\"color: #00d7ff; text-decoration-color: #00d7ff\">None</span>, <span style=\"color: #00af00; text-decoration-color: #00af00\">1</span>)                   │               <span style=\"color: #00af00; text-decoration-color: #00af00\">7</span> │\n",
              "└──────────────────────────────────────┴─────────────────────────────┴─────────────────┘\n",
              "</pre>\n"
            ]
          },
          "metadata": {}
        },
        {
          "output_type": "display_data",
          "data": {
            "text/plain": [
              "\u001b[1m Total params: \u001b[0m\u001b[38;5;34m73\u001b[0m (292.00 B)\n"
            ],
            "text/html": [
              "<pre style=\"white-space:pre;overflow-x:auto;line-height:normal;font-family:Menlo,'DejaVu Sans Mono',consolas,'Courier New',monospace\"><span style=\"font-weight: bold\"> Total params: </span><span style=\"color: #00af00; text-decoration-color: #00af00\">73</span> (292.00 B)\n",
              "</pre>\n"
            ]
          },
          "metadata": {}
        },
        {
          "output_type": "display_data",
          "data": {
            "text/plain": [
              "\u001b[1m Trainable params: \u001b[0m\u001b[38;5;34m73\u001b[0m (292.00 B)\n"
            ],
            "text/html": [
              "<pre style=\"white-space:pre;overflow-x:auto;line-height:normal;font-family:Menlo,'DejaVu Sans Mono',consolas,'Courier New',monospace\"><span style=\"font-weight: bold\"> Trainable params: </span><span style=\"color: #00af00; text-decoration-color: #00af00\">73</span> (292.00 B)\n",
              "</pre>\n"
            ]
          },
          "metadata": {}
        },
        {
          "output_type": "display_data",
          "data": {
            "text/plain": [
              "\u001b[1m Non-trainable params: \u001b[0m\u001b[38;5;34m0\u001b[0m (0.00 B)\n"
            ],
            "text/html": [
              "<pre style=\"white-space:pre;overflow-x:auto;line-height:normal;font-family:Menlo,'DejaVu Sans Mono',consolas,'Courier New',monospace\"><span style=\"font-weight: bold\"> Non-trainable params: </span><span style=\"color: #00af00; text-decoration-color: #00af00\">0</span> (0.00 B)\n",
              "</pre>\n"
            ]
          },
          "metadata": {}
        },
        {
          "output_type": "error",
          "ename": "ImportError",
          "evalue": "cannot import name 'maxnorm' from 'keras.constraints' (/usr/local/lib/python3.10/dist-packages/keras/api/constraints/__init__.py)",
          "traceback": [
            "\u001b[0;31m---------------------------------------------------------------------------\u001b[0m",
            "\u001b[0;31mImportError\u001b[0m                               Traceback (most recent call last)",
            "\u001b[0;32m<ipython-input-7-9eb7a1477220>\u001b[0m in \u001b[0;36m<cell line: 20>\u001b[0;34m()\u001b[0m\n\u001b[1;32m     18\u001b[0m \u001b[0;32mfrom\u001b[0m \u001b[0mkeras\u001b[0m\u001b[0;34m.\u001b[0m\u001b[0mlayers\u001b[0m \u001b[0;32mimport\u001b[0m \u001b[0mDense\u001b[0m\u001b[0;34m\u001b[0m\u001b[0;34m\u001b[0m\u001b[0m\n\u001b[1;32m     19\u001b[0m \u001b[0;32mfrom\u001b[0m \u001b[0mkeras\u001b[0m \u001b[0;32mimport\u001b[0m \u001b[0mregularizers\u001b[0m\u001b[0;34m\u001b[0m\u001b[0;34m\u001b[0m\u001b[0m\n\u001b[0;32m---> 20\u001b[0;31m \u001b[0;32mfrom\u001b[0m \u001b[0mkeras\u001b[0m\u001b[0;34m.\u001b[0m\u001b[0mconstraints\u001b[0m \u001b[0;32mimport\u001b[0m \u001b[0mmaxnorm\u001b[0m\u001b[0;34m\u001b[0m\u001b[0;34m\u001b[0m\u001b[0m\n\u001b[0m\u001b[1;32m     21\u001b[0m \u001b[0;34m\u001b[0m\u001b[0m\n\u001b[1;32m     22\u001b[0m \u001b[0mmodel\u001b[0m \u001b[0;34m=\u001b[0m \u001b[0mSequential\u001b[0m\u001b[0;34m(\u001b[0m\u001b[0;34m)\u001b[0m\u001b[0;34m\u001b[0m\u001b[0;34m\u001b[0m\u001b[0m\n",
            "\u001b[0;31mImportError\u001b[0m: cannot import name 'maxnorm' from 'keras.constraints' (/usr/local/lib/python3.10/dist-packages/keras/api/constraints/__init__.py)",
            "",
            "\u001b[0;31m---------------------------------------------------------------------------\u001b[0;32m\nNOTE: If your import is failing due to a missing package, you can\nmanually install dependencies using either !pip or !apt.\n\nTo view examples of installing some common dependencies, click the\n\"Open Examples\" button below.\n\u001b[0;31m---------------------------------------------------------------------------\u001b[0m\n"
          ],
          "errorDetails": {
            "actions": [
              {
                "action": "open_url",
                "actionText": "Open Examples",
                "url": "/notebooks/snippets/importing_libraries.ipynb"
              }
            ]
          }
        }
      ]
    },
    {
      "cell_type": "code",
      "metadata": {
        "id": "Bx4jMWSaRNIW"
      },
      "source": [
        "def fibo(n):\n",
        "  if (n <= 1) : return(n)\n",
        "  return ( fibo(n-1) + fibo(n-2) )"
      ],
      "execution_count": null,
      "outputs": []
    },
    {
      "cell_type": "code",
      "metadata": {
        "id": "O7UXH6YBRtTS"
      },
      "source": [
        "fibo(7)"
      ],
      "execution_count": null,
      "outputs": []
    },
    {
      "cell_type": "code",
      "metadata": {
        "id": "4GJJ-mSiSEvi"
      },
      "source": [
        "[fibo(x) for x in range(10)]"
      ],
      "execution_count": null,
      "outputs": []
    },
    {
      "cell_type": "code",
      "metadata": {
        "id": "_pQKC9DZ9XRU"
      },
      "source": [
        "\n",
        "\n",
        "###################\n",
        "\n",
        "# Example 3.1.3:\n",
        "\n",
        "# Compile the model\n",
        "\n",
        "model.compile(loss = 'binary_crossentropy',\n",
        "\toptimizer = 'adam', metrics = ['accuracy'])\n",
        "\n",
        "###################\n",
        "\n",
        "## Figure 3.1.1: various activation functions\n",
        "\n",
        "import numpy as np\n",
        "import matplotlib.pyplot as plt\n",
        "\n",
        "linear = lambda x: x\n",
        "\n",
        "elu = lambda x, alpha = 1: np.where(np.array(x) >= 0, np.array(x), alpha * (np.exp(np.array(x)) - 1))\n",
        "\n",
        "selu = lambda x, lam = 1.0507, alpha = 1.67326: lam * elu(np.array(x), alpha)\n",
        "\n",
        "relu = lambda x: (np.array(x) > 0) * x\n",
        "\n",
        "leaky_relu = lambda x, alpha = 0.3: np.where(np.array(x) >= 0, np.array(x), alpha * np.array(x))\n",
        "\n",
        "soft_plus = lambda x: np.log(1 + np.exp(np.array(x)))\n",
        "\n",
        "soft_sign = lambda x: np.array(x) / (1 + np.abs(np.array(x)))\n",
        "\n",
        "tanh = lambda x: (np.exp(np.array(x)) - np.exp(-np.array(x))) / (np.exp(np.array(x)) + np.exp(-np.array(x)))\n",
        "\n",
        "sigmoid = lambda x: 1 / (1 + np.exp(-np.array(x)))\n",
        "\n",
        "hard_sigmoid = lambda x: np.maximum(0, np.minimum(1, 0.2 * np.array(x) + 0.5))\n",
        "\n",
        "##################\n",
        "\n",
        "# linear, elu, and selu\n",
        "\n",
        "num = 1001\n",
        "x0 = np.linspace(start = -4, stop = 4, num = num)\n",
        "y1 = linear(x0)\n",
        "y2 = elu(x0)\n",
        "y3 = selu(x0)\n",
        "\n",
        "xlim = [np.min(x0), np.max(x0)]\n",
        "y_tmp = np.concatenate((y1, y2, y3))\n",
        "ylim = [np.min(y_tmp), np.max(y_tmp) + 0.5]\n",
        "\n",
        "plt.figure('Figure 3.1.1a', figsize = (2.8, 2.8))\n",
        "#plt.title('Activation functions')\n",
        "plt.xlim(xlim)\n",
        "plt.ylim(ylim)\n",
        "plt.plot(x0, y1, \"r-\")\n",
        "plt.plot(x0, y2, \"g--\")\n",
        "plt.plot(x0, y3, \"b:\")\n",
        "plt.axhline(y = 0, linewidth = 1, linestyle = '-', color = 'black')\n",
        "plt.axvline(x = 0, linewidth = 1, linestyle = '-', color = 'black')\n",
        "plt.xlabel('x')\n",
        "plt.ylabel('')\n",
        "plt.legend(['linear', 'elu', 'selu'], fontsize = 8, loc = \"best\", frameon = False)\n",
        "plt.show()"
      ],
      "execution_count": null,
      "outputs": []
    },
    {
      "cell_type": "code",
      "metadata": {
        "id": "IaCOSPMN9JQg"
      },
      "source": [
        "\n",
        "\n",
        "##################\n",
        "\n",
        "# linear, relu, leaky_relu, and soft_plus\n",
        "\n",
        "num = 1001\n",
        "x0 = np.linspace(start = -4, stop = 4, num = num)\n",
        "y1 = linear(x0)\n",
        "y2 = relu(x0)\n",
        "y3 = leaky_relu(x0)\n",
        "y4 = soft_plus(x0)\n",
        "\n",
        "xlim = [np.min(x0), np.max(x0)]\n",
        "y_tmp = np.concatenate((y1, y2, y3, y4))\n",
        "ylim = [np.min(y_tmp), np.max(y_tmp)]\n",
        "\n",
        "plt.figure('Figure 3.1.1b', figsize = (2.8, 2.8))\n",
        "#plt.title('Activation functions')\n",
        "plt.xlim(xlim)\n",
        "plt.ylim(ylim)\n",
        "plt.plot(x0, y1, \"r-\")\n",
        "plt.plot(x0, y2, \"g--\")\n",
        "plt.plot(x0, y3, \"b:\")\n",
        "plt.plot(x0, y4, \"m-.\")\n",
        "plt.axhline(y = 0, linewidth = 1, linestyle = '-', color = 'black')\n",
        "plt.axvline(x = 0, linewidth = 1, linestyle = '-', color = 'black')\n",
        "plt.xlabel('x')\n",
        "plt.ylabel('')\n",
        "plt.legend(['linear', 'relu', 'leaky_relu', 'soft_plus'], fontsize = 8, loc = \"best\", frameon = False)\n",
        "plt.show()"
      ],
      "execution_count": null,
      "outputs": []
    },
    {
      "cell_type": "code",
      "metadata": {
        "id": "vA_NQenw9uv3"
      },
      "source": [
        "\n",
        "\n",
        "##################\n",
        "\n",
        "# soft_sign and tanh\n",
        "\n",
        "num = 1001\n",
        "x0 = np.linspace(start = -10, stop = 10, num = num)\n",
        "y1 = soft_sign(x0)\n",
        "y2 = tanh(x0)\n",
        "\n",
        "xlim = [np.min(x0), np.max(x0)]\n",
        "y_tmp = np.concatenate((y1, y2))\n",
        "ylim = [np.min(y_tmp) - 0.1, np.max(y_tmp) + 0.1]\n",
        "\n",
        "plt.figure('Figure 3.1.1c', figsize = (2.8, 2.8))\n",
        "#plt.title('Activation functions')\n",
        "plt.xlim(xlim)\n",
        "plt.ylim(ylim)\n",
        "plt.plot(x0, y1, \"r-\")\n",
        "plt.plot(x0, y2, \"g--\")\n",
        "plt.axhline(y = 0, linewidth = 1, linestyle = '-', color = 'black')\n",
        "plt.axvline(x = 0, linewidth = 1, linestyle = '-', color = 'black')\n",
        "plt.xlabel('x')\n",
        "plt.ylabel('')\n",
        "plt.legend(['soft_sign', 'tanh'], fontsize = 8, loc = \"best\", frameon = False)\n",
        "plt.show()"
      ],
      "execution_count": null,
      "outputs": []
    },
    {
      "cell_type": "code",
      "metadata": {
        "id": "6kmjcw7G9wG7"
      },
      "source": [
        "\n",
        "\n",
        "##################\n",
        "\n",
        "# sigmoid and hard_sigmoid\n",
        "\n",
        "num = 1001\n",
        "x0 = np.linspace(start = -8, stop = 6, num = num)\n",
        "y1 = sigmoid(x0)\n",
        "y2 = hard_sigmoid(x0)\n",
        "\n",
        "xlim = [np.min(x0), np.max(x0)]\n",
        "y_tmp = np.concatenate((y1, y2))\n",
        "ylim = [np.min(y_tmp) - 0.1, np.max(y_tmp) + 0.1]\n",
        "\n",
        "plt.figure('Figure 3.1.1d', figsize = (2.8, 2.8))\n",
        "#plt.title('Activation functions')\n",
        "plt.xlim(xlim)\n",
        "plt.ylim(ylim)\n",
        "plt.plot(x0, y1, \"r-\")\n",
        "plt.plot(x0, y2, \"g--\")\n",
        "plt.axhline(y = 0, linewidth = 1, linestyle = '-', color = 'black')\n",
        "plt.axvline(x = 0, linewidth = 1, linestyle = '-', color = 'black')\n",
        "plt.xlabel('x')\n",
        "plt.ylabel('')\n",
        "plt.legend(['sigmoid', 'hard_sigmoid'], fontsize = 8, loc = \"best\", frameon = False)\n",
        "plt.show()"
      ],
      "execution_count": null,
      "outputs": []
    }
  ]
}